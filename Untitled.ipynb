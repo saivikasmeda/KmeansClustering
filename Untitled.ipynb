{
 "cells": [
  {
   "cell_type": "code",
   "execution_count": null,
   "metadata": {},
   "outputs": [
    {
     "name": "stdout",
     "output_type": "stream",
     "text": [
      "Initial Centres:\n",
      "                                                  tweet  \\\n",
      "838   Suicide 'not always inevitable' http://bbc.in/...   \n",
      "469   Coupons 'help pregnant smokers quit' http://bb...   \n",
      "3689  Can singing ease a child's pain? http://bbc.in...   \n",
      "\n",
      "                                          tweets  \\\n",
      "838         [suicide, 'not, always, inevitable']   \n",
      "469   [coupons, 'help, pregnant, smokers, quit']   \n",
      "3689     [can, singing, ease, a, child's, pain?]   \n",
      "\n",
      "                                  processedTweet  \n",
      "838         {'not, always, inevitable', suicide}  \n",
      "469   {coupons, quit', 'help, smokers, pregnant}  \n",
      "3689     {singing, child's, can, ease, a, pain?}  \n",
      "Iteration # 1\n",
      "Clusters Assigned\n",
      "Updating centroids\n"
     ]
    }
   ],
   "source": [
    "from tweetsClustering import *\n",
    "headers = ['tweetId', 'dateTime', 'tweet']\n",
    "dataframe = pd.read_csv('bbchealth.txt', sep='|', header=None, names=headers)\n",
    "preprocess(dataframe)\n",
    "\n",
    "K = [3,4,6,8,9,50,100]\n",
    "\n",
    "for i in K:\n",
    " newsClusters = NewsClusters(dataframe, i)\n",
    " newsClusters.fit()\n",
    " newsClusters.report()"
   ]
  },
  {
   "cell_type": "code",
   "execution_count": null,
   "metadata": {},
   "outputs": [],
   "source": []
  }
 ],
 "metadata": {
  "kernelspec": {
   "display_name": "Python 3",
   "language": "python",
   "name": "python3"
  },
  "language_info": {
   "codemirror_mode": {
    "name": "ipython",
    "version": 3
   },
   "file_extension": ".py",
   "mimetype": "text/x-python",
   "name": "python",
   "nbconvert_exporter": "python",
   "pygments_lexer": "ipython3",
   "version": "3.7.3"
  }
 },
 "nbformat": 4,
 "nbformat_minor": 4
}
